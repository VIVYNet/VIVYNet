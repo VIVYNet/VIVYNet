{
  "cells": [
    {
      "cell_type": "markdown",
      "metadata": {
        "colab_type": "text",
        "id": "view-in-github"
      },
      "source": [
        "<a href=\"https://colab.research.google.com/github/symphonynet/SymphonyNet/blob/main/play_symphonynet.ipynb\" target=\"_parent\"><img src=\"https://colab.research.google.com/assets/colab-badge.svg\" alt=\"Open In Colab\"/></a>"
      ]
    },
    {
      "cell_type": "markdown",
      "metadata": {
        "id": "GkHCXH4yUTDk"
      },
      "source": [
        "# Co-creating music with SymphonyNet"
      ]
    },
    {
      "cell_type": "markdown",
      "metadata": {
        "id": "n8GTiwfRUXFX"
      },
      "source": [
        "## Install the requirements"
      ]
    },
    {
      "cell_type": "code",
      "execution_count": null,
      "metadata": {
        "colab": {
          "base_uri": "https://localhost:8080/"
        },
        "id": "YKEHg0S0UYuB",
        "outputId": "69eff979-5c4d-44eb-eecb-62ae39b2eb50"
      },
      "outputs": [],
      "source": [
        "# !git clone https://github.com/symphonynet/SymphonyNet.git"
      ]
    },
    {
      "cell_type": "code",
      "execution_count": null,
      "metadata": {
        "colab": {
          "base_uri": "https://localhost:8080/"
        },
        "id": "UV9mJxXfUeJu",
        "outputId": "47261d5a-43bc-408b-cda4-880c7208363e"
      },
      "outputs": [],
      "source": [
        "# !cat SymphonyNet/requirements.txt | xargs -n 1 -L 1 pip install"
      ]
    },
    {
      "cell_type": "markdown",
      "metadata": {
        "id": "DGH_Q-tYUiGB"
      },
      "source": [
        "## Model preparation"
      ]
    },
    {
      "cell_type": "code",
      "execution_count": 1,
      "metadata": {
        "id": "owMvhFUWUgcU"
      },
      "outputs": [
        {
          "name": "stderr",
          "output_type": "stream",
          "text": [
            "/home/blherre4/miniconda3/envs/vivyenv/lib/python3.8/site-packages/tqdm/auto.py:22: TqdmWarning: IProgress not found. Please update jupyter and ipywidgets. See https://ipywidgets.readthedocs.io/en/stable/user_install.html\n",
            "  from .autonotebook import tqdm as notebook_tqdm\n"
          ]
        },
        {
          "ename": "FileNotFoundError",
          "evalue": "[Errno 2] No such file or directory: '/home/tnguy231/VIVY/VIVYNet/Decoder/symphony_net/data/model_spec/linear_4096_chord_bpe_hardloss1/vocabs/vocab_0.json'",
          "output_type": "error",
          "traceback": [
            "\u001b[0;31m---------------------------------------------------------------------------\u001b[0m",
            "\u001b[0;31mFileNotFoundError\u001b[0m                         Traceback (most recent call last)",
            "Cell \u001b[0;32mIn[1], line 13\u001b[0m\n\u001b[1;32m     10\u001b[0m DATA_VOC_DIR\u001b[39m=\u001b[39m\u001b[39mf\u001b[39m\u001b[39m\"\u001b[39m\u001b[39m/home/tnguy231/VIVY/VIVYNet/Decoder/symphony_net/data/model_spec/\u001b[39m\u001b[39m{\u001b[39;00mDATA_BIN\u001b[39m}\u001b[39;00m\u001b[39m/vocabs/\u001b[39m\u001b[39m\"\u001b[39m\n\u001b[1;32m     12\u001b[0m \u001b[39mfrom\u001b[39;00m \u001b[39msrc\u001b[39;00m\u001b[39m.\u001b[39;00m\u001b[39mfairseq\u001b[39;00m\u001b[39m.\u001b[39;00m\u001b[39mgen_utils\u001b[39;00m \u001b[39mimport\u001b[39;00m process_prime_midi, gen_one, get_trk_ins_map, get_note_seq, note_seq_to_midi_file, music_dict\n\u001b[0;32m---> 13\u001b[0m music_dict\u001b[39m.\u001b[39;49mload_vocabs_bpe(DATA_VOC_DIR, \u001b[39m'\u001b[39;49m\u001b[39m/home/tnguy231/VIVY/VIVYNet/Decoder/symphony_net/data/bpe_res/\u001b[39;49m\u001b[39m'\u001b[39;49m \u001b[39mif\u001b[39;49;00m BPE \u001b[39m==\u001b[39;49m \u001b[39m'\u001b[39;49m\u001b[39m_bpe\u001b[39;49m\u001b[39m'\u001b[39;49m \u001b[39melse\u001b[39;49;00m \u001b[39mNone\u001b[39;49;00m)\n\u001b[1;32m     15\u001b[0m midi_name \u001b[39m=\u001b[39m \u001b[39m'\u001b[39m\u001b[39m/home/tnguy231/VIVY/VIVYNet/Decoder/symphony_net/data/midis/ty_maerz_format0.mid\u001b[39m\u001b[39m'\u001b[39m\n\u001b[1;32m     16\u001b[0m max_measure_cnt \u001b[39m=\u001b[39m \u001b[39m5\u001b[39m\n",
            "File \u001b[0;32m~/VIVY/VIVYNet/decoder/symphony_net/src/fairseq/gen_utils.py:45\u001b[0m, in \u001b[0;36mDictionary.load_vocabs_bpe\u001b[0;34m(self, DATA_VOC_DIR, BPE_DIR)\u001b[0m\n\u001b[1;32m     43\u001b[0m \u001b[39mdef\u001b[39;00m \u001b[39mload_vocabs_bpe\u001b[39m(\u001b[39mself\u001b[39m, DATA_VOC_DIR, BPE_DIR\u001b[39m=\u001b[39m\u001b[39mNone\u001b[39;00m):\n\u001b[1;32m     44\u001b[0m     \u001b[39mfor\u001b[39;00m i \u001b[39min\u001b[39;00m \u001b[39mrange\u001b[39m(RATIO):\n\u001b[0;32m---> 45\u001b[0m         \u001b[39mwith\u001b[39;00m \u001b[39mopen\u001b[39;49m(\u001b[39mf\u001b[39;49m\u001b[39m'\u001b[39;49m\u001b[39m{\u001b[39;49;00mDATA_VOC_DIR\u001b[39m}\u001b[39;49;00m\u001b[39mvocab_\u001b[39;49m\u001b[39m{\u001b[39;49;00mi\u001b[39m}\u001b[39;49;00m\u001b[39m.json\u001b[39;49m\u001b[39m'\u001b[39;49m, \u001b[39m'\u001b[39;49m\u001b[39mr\u001b[39;49m\u001b[39m'\u001b[39;49m) \u001b[39mas\u001b[39;00m f:\n\u001b[1;32m     46\u001b[0m             \u001b[39mself\u001b[39m\u001b[39m.\u001b[39mvocabs[i] \u001b[39m=\u001b[39m json\u001b[39m.\u001b[39mload(f)\n\u001b[1;32m     47\u001b[0m             \u001b[39mself\u001b[39m\u001b[39m.\u001b[39mvoc2int[i] \u001b[39m=\u001b[39m {v:\u001b[39mint\u001b[39m(k)\u001b[39mfor\u001b[39;00m k, v \u001b[39min\u001b[39;00m \u001b[39mself\u001b[39m\u001b[39m.\u001b[39mvocabs[i]\u001b[39m.\u001b[39mitems()}\n",
            "\u001b[0;31mFileNotFoundError\u001b[0m: [Errno 2] No such file or directory: '/home/tnguy231/VIVY/VIVYNet/Decoder/symphony_net/data/model_spec/linear_4096_chord_bpe_hardloss1/vocabs/vocab_0.json'"
          ]
        }
      ],
      "source": [
        "MAX_POS_LEN = 4096\n",
        "PI_LEVEL = 2\n",
        "IGNORE_META_LOSS = 1\n",
        "RATIO = 4\n",
        "BPE = \"_bpe\" # or \"\"\n",
        "\n",
        "DATA_BIN=f\"linear_{MAX_POS_LEN}_chord{BPE}_hardloss{IGNORE_META_LOSS}\"\n",
        "CHECKPOINT_SUFFIX=f\"{DATA_BIN}_PI{PI_LEVEL}\"\n",
        "DATA_BIN_DIR=f\"/home/tnguy231/VIVY/VIVYNet/Decoder/symphony_net/data/model_spec/{DATA_BIN}/bin/\"\n",
        "DATA_VOC_DIR=f\"/home/tnguy231/VIVY/VIVYNet/Decoder/symphony_net/data/model_spec/{DATA_BIN}/vocabs/\"\n",
        "\n",
        "from src.fairseq.gen_utils import process_prime_midi, gen_one, get_trk_ins_map, get_note_seq, note_seq_to_midi_file, music_dict\n",
        "music_dict.load_vocabs_bpe(DATA_VOC_DIR, '/home/tnguy231/VIVY/VIVYNet/Decoder/symphony_net/data/bpe_res/' if BPE == '_bpe' else None)\n",
        "\n",
        "midi_name = '/home/tnguy231/VIVY/VIVYNet/Decoder/symphony_net/data/midis/ty_maerz_format0.mid'\n",
        "max_measure_cnt = 5\n",
        "max_chord_measure_cnt = 0\n",
        "# prime, ins_label = process_prime_midi(midi_name, max_measure_cnt, max_chord_measure_cnt)\n",
        "prime1, ins_label1 = process_prime_midi(midi_name, max_measure_cnt, max_chord_measure_cnt)\n",
        "len(ins_label1)"
      ]
    },
    {
      "cell_type": "markdown",
      "metadata": {
        "id": "g-rHo-owUlwo"
      },
      "source": [
        "Initialize the model and load pretrained parameters. (You should first save the provided [ckpt file](https://drive.google.com/file/d/1xpkj_qN4MdLRkBdCXmfGjuWWjnTN1Og0/view) into your google drive.)"
      ]
    },
    {
      "cell_type": "code",
      "execution_count": null,
      "metadata": {
        "colab": {
          "base_uri": "https://localhost:8080/"
        },
        "id": "2EQMHbzvUkqj",
        "outputId": "aa5c8e9b-156d-400c-f1ae-0b1cfb72b3bc"
      },
      "outputs": [],
      "source": [
        "from fairseq.models import FairseqLanguageModel\n",
        "from google.colab import drive\n",
        "drive.mount('/content/drive')\n",
        "custom_lm = FairseqLanguageModel.from_pretrained('.', \n",
        "    checkpoint_file=f'drive/MyDrive/checkpoint_last_{CHECKPOINT_SUFFIX}.pt', \n",
        "    data_name_or_path=DATA_BIN_DIR, \n",
        "    user_dir=\"SymphonyNet/src/fairseq/linear_transformer_inference\")"
      ]
    },
    {
      "cell_type": "code",
      "execution_count": null,
      "metadata": {
        "id": "xPOOo9hXUogE"
      },
      "outputs": [],
      "source": [
        "m = custom_lm.models[0]\n",
        "m.cuda()\n",
        "m.eval()"
      ]
    },
    {
      "cell_type": "markdown",
      "metadata": {
        "id": "Wwywwsq_UquV"
      },
      "source": [
        "## Prepare prime MIDI"
      ]
    },
    {
      "cell_type": "code",
      "execution_count": null,
      "metadata": {
        "id": "ILD3_qlnUplc"
      },
      "outputs": [],
      "source": [
        "midi_name = '/home/tnguy231/VIVY/VIVYNet/Decoder/symphony_net/test.mid'\n",
        "test_midi_name = '/home/tnguy231/VIVY/VIVYNet/Decoder/symphony_net/mz_545_3_format0.mid'\n",
        "max_measure_cnt = 5\n",
        "max_chord_measure_cnt = 0\n",
        "# prime, ins_label = process_prime_midi(midi_name, max_measure_cnt, max_chord_measure_cnt)\n",
        "prime1, ins_label1 = process_prime_midi(test_midi_name, max_measure_cnt, max_chord_measure_cnt)"
      ]
    },
    {
      "cell_type": "code",
      "execution_count": null,
      "metadata": {},
      "outputs": [],
      "source": [
        "prime[:5]"
      ]
    },
    {
      "cell_type": "code",
      "execution_count": null,
      "metadata": {},
      "outputs": [],
      "source": [
        "ins_label[:5]"
      ]
    },
    {
      "cell_type": "markdown",
      "metadata": {
        "id": "LL_T41CFUunt"
      },
      "source": [
        "## Generation"
      ]
    },
    {
      "cell_type": "code",
      "execution_count": null,
      "metadata": {
        "colab": {
          "base_uri": "https://localhost:8080/"
        },
        "id": "nG4COxgxUtLm",
        "outputId": "ca75843e-2416-44b1-a3a3-cc9567a11b86"
      },
      "outputs": [],
      "source": [
        "import time\n",
        "while(True):\n",
        "  try:\n",
        "    generated, ins_logits = gen_one(m, prime, MIN_LEN = 1024)\n",
        "    break\n",
        "  except Exception as e:\n",
        "    print(e)\n",
        "    continue\n",
        "trk_ins_map = get_trk_ins_map(generated, ins_logits)\n",
        "note_seq = get_note_seq(generated, trk_ins_map)\n",
        "timestamp = time.strftime(\"%m-%d_%H-%M-%S\", time.localtime()) \n",
        "output_name = f'output_prime{max_measure_cnt}_chord{max_chord_measure_cnt}_{timestamp}.mid'\n",
        "note_seq_to_midi_file(note_seq, output_name)"
      ]
    },
    {
      "cell_type": "markdown",
      "metadata": {
        "id": "P5fNk1FPU1Uo"
      },
      "source": [
        "## Audio Display"
      ]
    },
    {
      "cell_type": "code",
      "execution_count": null,
      "metadata": {
        "colab": {
          "base_uri": "https://localhost:8080/"
        },
        "id": "jTsalwBrUzoz",
        "outputId": "369ae6eb-77e0-4efd-8064-8cbf460aed94"
      },
      "outputs": [],
      "source": [
        "!sudo apt install -y fluidsynth"
      ]
    },
    {
      "cell_type": "code",
      "execution_count": null,
      "metadata": {
        "colab": {
          "base_uri": "https://localhost:8080/"
        },
        "id": "CtUrwTzsU4Xo",
        "outputId": "715a5d9d-d679-489c-ce2a-8faf69204bb9"
      },
      "outputs": [],
      "source": [
        "!pip install --upgrade pyfluidsynth"
      ]
    },
    {
      "cell_type": "code",
      "execution_count": null,
      "metadata": {
        "colab": {
          "base_uri": "https://localhost:8080/"
        },
        "id": "Yu9ZI0mZU7PQ",
        "outputId": "94319b0b-ab6b-400d-a2b4-229ab38efd74"
      },
      "outputs": [],
      "source": [
        "!pip install pretty_midi"
      ]
    },
    {
      "cell_type": "code",
      "execution_count": null,
      "metadata": {
        "id": "oHVCzTNUU8PG"
      },
      "outputs": [],
      "source": [
        "import fluidsynth\n",
        "import pretty_midi\n",
        "from IPython import display\n",
        "_SAMPLING_RATE = 16000\n",
        "def display_audio(pm: pretty_midi.PrettyMIDI, seconds=300):\n",
        "  waveform = pm.fluidsynth(fs=_SAMPLING_RATE)\n",
        "  # Take a sample of the generated waveform to mitigate kernel resets\n",
        "  waveform_short = waveform[:seconds*_SAMPLING_RATE]\n",
        "  return display.Audio(waveform_short, rate=_SAMPLING_RATE)"
      ]
    },
    {
      "cell_type": "code",
      "execution_count": null,
      "metadata": {
        "colab": {
          "base_uri": "https://localhost:8080/",
          "height": 74
        },
        "id": "LVERsgwhZAi-",
        "outputId": "6f991d23-13d9-498b-a4b0-eb8b0dfa9a57"
      },
      "outputs": [],
      "source": [
        "pm = pretty_midi.PrettyMIDI(output_name)\n",
        "display_audio(pm)"
      ]
    }
  ],
  "metadata": {
    "accelerator": "GPU",
    "colab": {
      "authorship_tag": "ABX9TyOceq4hZdh6ktOPTtx2xX/g",
      "collapsed_sections": [],
      "include_colab_link": true,
      "name": "play_symphonynet.ipynb",
      "provenance": []
    },
    "kernelspec": {
      "display_name": "vivyenv",
      "language": "python",
      "name": "python3"
    },
    "language_info": {
      "codemirror_mode": {
        "name": "ipython",
        "version": 3
      },
      "file_extension": ".py",
      "mimetype": "text/x-python",
      "name": "python",
      "nbconvert_exporter": "python",
      "pygments_lexer": "ipython3",
      "version": "3.8.16"
    },
    "vscode": {
      "interpreter": {
        "hash": "1cf98f5046811ca97dd618d107c2e14a46b0691e4902cc24347db49b8f65e80b"
      }
    }
  },
  "nbformat": 4,
  "nbformat_minor": 0
}
