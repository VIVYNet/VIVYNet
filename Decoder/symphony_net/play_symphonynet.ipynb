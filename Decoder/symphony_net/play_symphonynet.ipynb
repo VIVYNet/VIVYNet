{
  "cells": [
    {
      "cell_type": "markdown",
      "metadata": {
        "colab_type": "text",
        "id": "view-in-github"
      },
      "source": [
        "<a href=\"https://colab.research.google.com/github/symphonynet/SymphonyNet/blob/main/play_symphonynet.ipynb\" target=\"_parent\"><img src=\"https://colab.research.google.com/assets/colab-badge.svg\" alt=\"Open In Colab\"/></a>"
      ]
    },
    {
      "cell_type": "markdown",
      "metadata": {
        "id": "GkHCXH4yUTDk"
      },
      "source": [
        "# Co-creating music with SymphonyNet"
      ]
    },
    {
      "cell_type": "markdown",
      "metadata": {
        "id": "n8GTiwfRUXFX"
      },
      "source": [
        "## Install the requirements"
      ]
    },
    {
      "cell_type": "code",
      "execution_count": null,
      "metadata": {
        "colab": {
          "base_uri": "https://localhost:8080/"
        },
        "id": "YKEHg0S0UYuB",
        "outputId": "69eff979-5c4d-44eb-eecb-62ae39b2eb50"
      },
      "outputs": [],
      "source": [
        "# !git clone https://github.com/symphonynet/SymphonyNet.git"
      ]
    },
    {
      "cell_type": "code",
      "execution_count": null,
      "metadata": {
        "colab": {
          "base_uri": "https://localhost:8080/"
        },
        "id": "UV9mJxXfUeJu",
        "outputId": "47261d5a-43bc-408b-cda4-880c7208363e"
      },
      "outputs": [],
      "source": [
        "# !cat SymphonyNet/requirements.txt | xargs -n 1 -L 1 pip install"
      ]
    },
    {
      "cell_type": "markdown",
      "metadata": {
        "id": "DGH_Q-tYUiGB"
      },
      "source": [
        "## Model preparation"
      ]
    },
    {
      "cell_type": "code",
      "execution_count": 4,
      "metadata": {
        "id": "owMvhFUWUgcU"
      },
      "outputs": [],
      "source": [
        "MAX_POS_LEN = 4096\n",
        "PI_LEVEL = 2\n",
        "IGNORE_META_LOSS = 1\n",
        "RATIO = 4\n",
        "BPE = \"_bpe\" # or \"\"\n",
        "\n",
        "DATA_BIN=f\"linear_{MAX_POS_LEN}_chord{BPE}_hardloss{IGNORE_META_LOSS}\"\n",
        "CHECKPOINT_SUFFIX=f\"{DATA_BIN}_PI{PI_LEVEL}\"\n",
        "DATA_BIN_DIR=f\"/home/tnguy231/VIVY/VIVYNet/Decoder/symphony_net/data/model_spec/{DATA_BIN}/bin/\"\n",
        "DATA_VOC_DIR=f\"/home/tnguy231/VIVY/VIVYNet/Decoder/symphony_net/data/model_spec/{DATA_BIN}/vocabs/\"\n",
        "\n",
        "from src.fairseq.gen_utils import process_prime_midi, gen_one, get_trk_ins_map, get_note_seq, note_seq_to_midi_file, music_dict\n",
        "music_dict.load_vocabs_bpe(DATA_VOC_DIR, '/home/tnguy231/VIVY/VIVYNet/Decoder/symphony_net/data/bpe_res/' if BPE == '_bpe' else None)\n",
        "\n",
        "\n",
        "\n",
        "midi_name = '/home/tnguy231/VIVY/VIVYNet/Decoder/symphony_net/data/midis/test.mid'\n",
        "max_measure_cnt = 5\n",
        "max_chord_measure_cnt = 0\n",
        "# prime, ins_label = process_prime_midi(midi_name, max_measure_cnt, max_chord_measure_cnt)\n",
        "prime1, ins_label1 = process_prime_midi(midi_name, max_measure_cnt, max_chord_measure_cnt)"
      ]
    },
    {
      "cell_type": "markdown",
      "metadata": {
        "id": "g-rHo-owUlwo"
      },
      "source": [
        "Initialize the model and load pretrained parameters. (You should first save the provided [ckpt file](https://drive.google.com/file/d/1xpkj_qN4MdLRkBdCXmfGjuWWjnTN1Og0/view) into your google drive.)"
      ]
    },
    {
      "cell_type": "code",
      "execution_count": null,
      "metadata": {
        "colab": {
          "base_uri": "https://localhost:8080/"
        },
        "id": "2EQMHbzvUkqj",
        "outputId": "aa5c8e9b-156d-400c-f1ae-0b1cfb72b3bc"
      },
      "outputs": [],
      "source": [
        "from fairseq.models import FairseqLanguageModel\n",
        "from google.colab import drive\n",
        "drive.mount('/content/drive')\n",
        "custom_lm = FairseqLanguageModel.from_pretrained('.', \n",
        "    checkpoint_file=f'drive/MyDrive/checkpoint_last_{CHECKPOINT_SUFFIX}.pt', \n",
        "    data_name_or_path=DATA_BIN_DIR, \n",
        "    user_dir=\"SymphonyNet/src/fairseq/linear_transformer_inference\")"
      ]
    },
    {
      "cell_type": "code",
      "execution_count": null,
      "metadata": {
        "id": "xPOOo9hXUogE"
      },
      "outputs": [],
      "source": [
        "m = custom_lm.models[0]\n",
        "m.cuda()\n",
        "m.eval()"
      ]
    },
    {
      "cell_type": "markdown",
      "metadata": {
        "id": "Wwywwsq_UquV"
      },
      "source": [
        "## Prepare prime MIDI"
      ]
    },
    {
      "cell_type": "code",
      "execution_count": null,
      "metadata": {
        "id": "ILD3_qlnUplc"
      },
      "outputs": [],
      "source": [
        "midi_name = '/home/tnguy231/VIVY/VIVYNet/Decoder/symphony_net/test.mid'\n",
        "test_midi_name = '/home/tnguy231/VIVY/VIVYNet/Decoder/symphony_net/mz_545_3_format0.mid'\n",
        "max_measure_cnt = 5\n",
        "max_chord_measure_cnt = 0\n",
        "# prime, ins_label = process_prime_midi(midi_name, max_measure_cnt, max_chord_measure_cnt)\n",
        "prime1, ins_label1 = process_prime_midi(test_midi_name, max_measure_cnt, max_chord_measure_cnt)"
      ]
    },
    {
      "cell_type": "code",
      "execution_count": null,
      "metadata": {},
      "outputs": [],
      "source": [
        "prime[:5]"
      ]
    },
    {
      "cell_type": "code",
      "execution_count": null,
      "metadata": {},
      "outputs": [],
      "source": [
        "ins_label[:5]"
      ]
    },
    {
      "cell_type": "code",
      "execution_count": null,
      "metadata": {},
      "outputs": [],
      "source": []
    },
    {
      "cell_type": "markdown",
      "metadata": {
        "id": "LL_T41CFUunt"
      },
      "source": [
        "## Generation"
      ]
    },
    {
      "cell_type": "code",
      "execution_count": null,
      "metadata": {
        "colab": {
          "base_uri": "https://localhost:8080/"
        },
        "id": "nG4COxgxUtLm",
        "outputId": "ca75843e-2416-44b1-a3a3-cc9567a11b86"
      },
      "outputs": [],
      "source": [
        "import time\n",
        "while(True):\n",
        "  try:\n",
        "    generated, ins_logits = gen_one(m, prime, MIN_LEN = 1024)\n",
        "    break\n",
        "  except Exception as e:\n",
        "    print(e)\n",
        "    continue\n",
        "trk_ins_map = get_trk_ins_map(generated, ins_logits)\n",
        "note_seq = get_note_seq(generated, trk_ins_map)\n",
        "timestamp = time.strftime(\"%m-%d_%H-%M-%S\", time.localtime()) \n",
        "output_name = f'output_prime{max_measure_cnt}_chord{max_chord_measure_cnt}_{timestamp}.mid'\n",
        "note_seq_to_midi_file(note_seq, output_name)"
      ]
    },
    {
      "cell_type": "markdown",
      "metadata": {
        "id": "P5fNk1FPU1Uo"
      },
      "source": [
        "## Audio Display"
      ]
    },
    {
      "cell_type": "code",
      "execution_count": null,
      "metadata": {
        "colab": {
          "base_uri": "https://localhost:8080/"
        },
        "id": "jTsalwBrUzoz",
        "outputId": "369ae6eb-77e0-4efd-8064-8cbf460aed94"
      },
      "outputs": [],
      "source": [
        "!sudo apt install -y fluidsynth"
      ]
    },
    {
      "cell_type": "code",
      "execution_count": null,
      "metadata": {
        "colab": {
          "base_uri": "https://localhost:8080/"
        },
        "id": "CtUrwTzsU4Xo",
        "outputId": "715a5d9d-d679-489c-ce2a-8faf69204bb9"
      },
      "outputs": [],
      "source": [
        "!pip install --upgrade pyfluidsynth"
      ]
    },
    {
      "cell_type": "code",
      "execution_count": null,
      "metadata": {
        "colab": {
          "base_uri": "https://localhost:8080/"
        },
        "id": "Yu9ZI0mZU7PQ",
        "outputId": "94319b0b-ab6b-400d-a2b4-229ab38efd74"
      },
      "outputs": [],
      "source": [
        "!pip install pretty_midi"
      ]
    },
    {
      "cell_type": "code",
      "execution_count": null,
      "metadata": {
        "id": "oHVCzTNUU8PG"
      },
      "outputs": [],
      "source": [
        "import fluidsynth\n",
        "import pretty_midi\n",
        "from IPython import display\n",
        "_SAMPLING_RATE = 16000\n",
        "def display_audio(pm: pretty_midi.PrettyMIDI, seconds=300):\n",
        "  waveform = pm.fluidsynth(fs=_SAMPLING_RATE)\n",
        "  # Take a sample of the generated waveform to mitigate kernel resets\n",
        "  waveform_short = waveform[:seconds*_SAMPLING_RATE]\n",
        "  return display.Audio(waveform_short, rate=_SAMPLING_RATE)"
      ]
    },
    {
      "cell_type": "code",
      "execution_count": null,
      "metadata": {
        "colab": {
          "base_uri": "https://localhost:8080/",
          "height": 74
        },
        "id": "LVERsgwhZAi-",
        "outputId": "6f991d23-13d9-498b-a4b0-eb8b0dfa9a57"
      },
      "outputs": [],
      "source": [
        "pm = pretty_midi.PrettyMIDI(output_name)\n",
        "display_audio(pm)"
      ]
    }
  ],
  "metadata": {
    "accelerator": "GPU",
    "colab": {
      "authorship_tag": "ABX9TyOceq4hZdh6ktOPTtx2xX/g",
      "collapsed_sections": [],
      "include_colab_link": true,
      "name": "play_symphonynet.ipynb",
      "provenance": []
    },
    "kernelspec": {
      "display_name": "vivyenv38",
      "language": "python",
      "name": "python3"
    },
    "language_info": {
      "codemirror_mode": {
        "name": "ipython",
        "version": 3
      },
      "file_extension": ".py",
      "mimetype": "text/x-python",
      "name": "python",
      "nbconvert_exporter": "python",
      "pygments_lexer": "ipython3",
      "version": "3.8.16"
    },
    "vscode": {
      "interpreter": {
        "hash": "4af5a285e0567de568e5780c30b7cc2ff5ee450c0e863d128e81166e54e56a7c"
      }
    }
  },
  "nbformat": 4,
  "nbformat_minor": 0
}
